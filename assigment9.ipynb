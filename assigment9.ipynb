{
 "cells": [
  {
   "cell_type": "code",
   "execution_count": 4,
   "id": "62ca89f7-258f-44e7-a6b1-43d815eba30f",
   "metadata": {},
   "outputs": [
    {
     "name": "stdout",
     "output_type": "stream",
     "text": [
      "True\n",
      "True\n"
     ]
    }
   ],
   "source": [
    "ANS 1:\n",
    "abstraction in oops is a  process of handling complexity by hiding unnecessary information from the user.\n",
    "eg :\n",
    "import abc\n",
    " \n",
    "class parent:      \n",
    "    def geeks(self):\n",
    "        pass\n",
    " \n",
    "class child(parent):\n",
    "    def geeks(self):\n",
    "        print(\"child class\")\n",
    " \n",
    "print( issubclass(child, parent))\n",
    "print( isinstance(child(), parent))\n",
    "    "
   ]
  },
  {
   "cell_type": "code",
   "execution_count": 5,
   "id": "5c68761c-8810-4190-af47-4701fba970d8",
   "metadata": {},
   "outputs": [
    {
     "name": "stdout",
     "output_type": "stream",
     "text": [
      "True\n",
      "True\n"
     ]
    }
   ],
   "source": [
    "Abstraction is a design level process and it is used to reduce the complexity at the designing stage of a project.\n",
    "Encapsulation is an implementation level process, and it is used to provide privacy and maintain control over the \n",
    "transparency of data at the implementation stage of a project.\n",
    "eg :\n",
    "This is an example of abstraction.\n",
    "import abc\n",
    " \n",
    "class parent:      \n",
    "    def geeks(self):\n",
    "        pass\n",
    " \n",
    "class child(parent):\n",
    "    def geeks(self):\n",
    "        print(\"child class\")\n",
    " \n",
    "print( issubclass(child, parent))\n",
    "print( isinstance(child(), parent))\n",
    "    "
   ]
  },
  {
   "cell_type": "code",
   "execution_count": 7,
   "id": "25a6c344-a764-46cb-9f68-bba623dd3524",
   "metadata": {},
   "outputs": [
    {
     "name": "stdout",
     "output_type": "stream",
     "text": [
      "Name:  suraj Salary: 8000\n",
      "suraj is working on datascience\n"
     ]
    }
   ],
   "source": [
    "eg :\n",
    "This is an example of encapsulation     \n",
    "class Employee:\n",
    "\n",
    "    def __init__(self, name, salary, project):\n",
    "        \n",
    "        self.name = name\n",
    "        self.salary = salary\n",
    "        self.project = project\n",
    "\n",
    "   \n",
    "    def show(self):\n",
    "        \n",
    "        print(\"Name: \", self.name, 'Salary:', self.salary)\n",
    "\n",
    "    \n",
    "    def work(self):\n",
    "        print(self.name, 'is working on', self.project)\n",
    "\n",
    "\n",
    "emp = Employee('suraj', 8000, 'datascience')\n",
    "\n",
    "emp.show()\n",
    "emp.work()"
   ]
  },
  {
   "cell_type": "code",
   "execution_count": 8,
   "id": "91388b2a-4c47-43be-b84b-8416477d64e9",
   "metadata": {},
   "outputs": [],
   "source": [
    "ANS 3:\n",
    "The 'abc' module in Python library provides the infrastructure for defining custom abstract base classes.\n",
    "'abc' works by marking methods of the base class as abstract.\n",
    "This is done by @absttractmethod decorator."
   ]
  },
  {
   "cell_type": "code",
   "execution_count": 9,
   "id": "75450c7c-74b7-4531-a873-e625eb326a56",
   "metadata": {},
   "outputs": [],
   "source": [
    "ANS 4 :\n",
    "abstraction can be achieved by having/using abstract classes and methods in our programs. "
   ]
  },
  {
   "cell_type": "code",
   "execution_count": 10,
   "id": "e41fed3d-caf5-4c4f-8329-42a1440c55fb",
   "metadata": {},
   "outputs": [],
   "source": [
    "ANS  5:\n",
    "Abstract classes cannot be instantiated, but they can be subclassed.\n",
    "When an abstract class is subclassed, the subclass usually provides implementations for all of the abstract methods in its parent class.\n",
    "However, if it does not, then the subclass must also be declared abstract ."
   ]
  },
  {
   "cell_type": "code",
   "execution_count": null,
   "id": "f323b7c9-4318-4f1d-bdda-63aae1209c9b",
   "metadata": {},
   "outputs": [],
   "source": []
  }
 ],
 "metadata": {
  "kernelspec": {
   "display_name": "Python 3 (ipykernel)",
   "language": "python",
   "name": "python3"
  },
  "language_info": {
   "codemirror_mode": {
    "name": "ipython",
    "version": 3
   },
   "file_extension": ".py",
   "mimetype": "text/x-python",
   "name": "python",
   "nbconvert_exporter": "python",
   "pygments_lexer": "ipython3",
   "version": "3.10.8"
  }
 },
 "nbformat": 4,
 "nbformat_minor": 5
}
